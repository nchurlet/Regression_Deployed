{
 "cells": [
  {
   "cell_type": "markdown",
   "metadata": {},
   "source": [
    "!pip install pandas_profiling"
   ]
  },
  {
   "cell_type": "markdown",
   "metadata": {},
   "source": [
    "<p class='p3' id='imports'>"
   ]
  },
  {
   "cell_type": "code",
   "execution_count": 117,
   "metadata": {},
   "outputs": [],
   "source": [
    "import pandas as pd\n",
    "from sklearn.model_selection import train_test_split\n",
    "from pandas_profiling import ProfileReport\n",
    "from sklearn.datasets import fetch_california_housing\n",
    "import pickle"
   ]
  },
  {
   "cell_type": "markdown",
   "metadata": {},
   "source": [
    "<p class='p3' id='data'>Les données</p>"
   ]
  },
  {
   "cell_type": "code",
   "execution_count": 32,
   "metadata": {
    "scrolled": true
   },
   "outputs": [
    {
     "data": {
      "text/html": [
       "<div>\n",
       "<style scoped>\n",
       "    .dataframe tbody tr th:only-of-type {\n",
       "        vertical-align: middle;\n",
       "    }\n",
       "\n",
       "    .dataframe tbody tr th {\n",
       "        vertical-align: top;\n",
       "    }\n",
       "\n",
       "    .dataframe thead th {\n",
       "        text-align: right;\n",
       "    }\n",
       "</style>\n",
       "<table border=\"1\" class=\"dataframe\">\n",
       "  <thead>\n",
       "    <tr style=\"text-align: right;\">\n",
       "      <th></th>\n",
       "      <th>MedInc</th>\n",
       "      <th>HouseAge</th>\n",
       "      <th>AveRooms</th>\n",
       "      <th>AveBedrms</th>\n",
       "      <th>Population</th>\n",
       "      <th>AveOccup</th>\n",
       "      <th>Latitude</th>\n",
       "      <th>Longitude</th>\n",
       "      <th>MedHouseVal</th>\n",
       "    </tr>\n",
       "  </thead>\n",
       "  <tbody>\n",
       "    <tr>\n",
       "      <th>0</th>\n",
       "      <td>8.3252</td>\n",
       "      <td>41.0</td>\n",
       "      <td>6.984127</td>\n",
       "      <td>1.023810</td>\n",
       "      <td>322.0</td>\n",
       "      <td>2.555556</td>\n",
       "      <td>37.88</td>\n",
       "      <td>-122.23</td>\n",
       "      <td>4.526</td>\n",
       "    </tr>\n",
       "    <tr>\n",
       "      <th>1</th>\n",
       "      <td>8.3014</td>\n",
       "      <td>21.0</td>\n",
       "      <td>6.238137</td>\n",
       "      <td>0.971880</td>\n",
       "      <td>2401.0</td>\n",
       "      <td>2.109842</td>\n",
       "      <td>37.86</td>\n",
       "      <td>-122.22</td>\n",
       "      <td>3.585</td>\n",
       "    </tr>\n",
       "    <tr>\n",
       "      <th>2</th>\n",
       "      <td>7.2574</td>\n",
       "      <td>52.0</td>\n",
       "      <td>8.288136</td>\n",
       "      <td>1.073446</td>\n",
       "      <td>496.0</td>\n",
       "      <td>2.802260</td>\n",
       "      <td>37.85</td>\n",
       "      <td>-122.24</td>\n",
       "      <td>3.521</td>\n",
       "    </tr>\n",
       "    <tr>\n",
       "      <th>3</th>\n",
       "      <td>5.6431</td>\n",
       "      <td>52.0</td>\n",
       "      <td>5.817352</td>\n",
       "      <td>1.073059</td>\n",
       "      <td>558.0</td>\n",
       "      <td>2.547945</td>\n",
       "      <td>37.85</td>\n",
       "      <td>-122.25</td>\n",
       "      <td>3.413</td>\n",
       "    </tr>\n",
       "    <tr>\n",
       "      <th>4</th>\n",
       "      <td>3.8462</td>\n",
       "      <td>52.0</td>\n",
       "      <td>6.281853</td>\n",
       "      <td>1.081081</td>\n",
       "      <td>565.0</td>\n",
       "      <td>2.181467</td>\n",
       "      <td>37.85</td>\n",
       "      <td>-122.25</td>\n",
       "      <td>3.422</td>\n",
       "    </tr>\n",
       "  </tbody>\n",
       "</table>\n",
       "</div>"
      ],
      "text/plain": [
       "   MedInc  HouseAge  AveRooms  AveBedrms  Population  AveOccup  Latitude  \\\n",
       "0  8.3252      41.0  6.984127   1.023810       322.0  2.555556     37.88   \n",
       "1  8.3014      21.0  6.238137   0.971880      2401.0  2.109842     37.86   \n",
       "2  7.2574      52.0  8.288136   1.073446       496.0  2.802260     37.85   \n",
       "3  5.6431      52.0  5.817352   1.073059       558.0  2.547945     37.85   \n",
       "4  3.8462      52.0  6.281853   1.081081       565.0  2.181467     37.85   \n",
       "\n",
       "   Longitude  MedHouseVal  \n",
       "0    -122.23        4.526  \n",
       "1    -122.22        3.585  \n",
       "2    -122.24        3.521  \n",
       "3    -122.25        3.413  \n",
       "4    -122.25        3.422  "
      ]
     },
     "execution_count": 32,
     "metadata": {},
     "output_type": "execute_result"
    }
   ],
   "source": [
    "data = fetch_california_housing() # Import des données.\n",
    "# Création du dataframe à partir des données\n",
    "df_initial = pd.DataFrame(data.data, columns=data.feature_names) \n",
    "df_initial[data.target_names] = pd.DataFrame(data.target)\n",
    "\n",
    "df_initial.head()"
   ]
  },
  {
   "cell_type": "code",
   "execution_count": 96,
   "metadata": {},
   "outputs": [
    {
     "data": {
      "text/plain": [
       "['MedHouseVal']"
      ]
     },
     "execution_count": 96,
     "metadata": {},
     "output_type": "execute_result"
    }
   ],
   "source": [
    "data.target_names"
   ]
  },
  {
   "cell_type": "code",
   "execution_count": 168,
   "metadata": {},
   "outputs": [
    {
     "name": "stdout",
     "output_type": "stream",
     "text": [
      ".. _california_housing_dataset:\n",
      "\n",
      "California Housing dataset\n",
      "--------------------------\n",
      "\n",
      "**Data Set Characteristics:**\n",
      "\n",
      "    :Number of Instances: 20640\n",
      "\n",
      "    :Number of Attributes: 8 numeric, predictive attributes and the target\n",
      "\n",
      "    :Attribute Information:\n",
      "        - MedInc        median income in block\n",
      "        - HouseAge      median house age in block\n",
      "        - AveRooms      average number of rooms\n",
      "        - AveBedrms     average number of bedrooms\n",
      "        - Population    block population\n",
      "        - AveOccup      average house occupancy\n",
      "        - Latitude      house block latitude\n",
      "        - Longitude     house block longitude\n",
      "\n",
      "    :Missing Attribute Values: None\n",
      "\n",
      "This dataset was obtained from the StatLib repository.\n",
      "http://lib.stat.cmu.edu/datasets/\n",
      "\n",
      "The target variable is the median house value for California districts.\n",
      "\n",
      "This dataset was derived from the 1990 U.S. census, using one row per census\n",
      "block group. A block group is the smallest geographical unit for which the U.S.\n",
      "Census Bureau publishes sample data (a block group typically has a population\n",
      "of 600 to 3,000 people).\n",
      "\n",
      "It can be downloaded/loaded using the\n",
      ":func:`sklearn.datasets.fetch_california_housing` function.\n",
      "\n",
      ".. topic:: References\n",
      "\n",
      "    - Pace, R. Kelley and Ronald Barry, Sparse Spatial Autoregressions,\n",
      "      Statistics and Probability Letters, 33 (1997) 291-297\n",
      "\n"
     ]
    }
   ],
   "source": [
    "print(data.DESCR)"
   ]
  },
  {
   "cell_type": "markdown",
   "metadata": {},
   "source": [
    "<p class='p3' id='profile'>Profilage des données</p>"
   ]
  },
  {
   "cell_type": "code",
   "execution_count": 25,
   "metadata": {},
   "outputs": [],
   "source": [
    "california_house_profile = \\\n",
    "ProfileReport(df_initial, title='Pandas Profiling Report\\nOn California house data', explorative=True)"
   ]
  },
  {
   "cell_type": "code",
   "execution_count": 26,
   "metadata": {
    "scrolled": true
   },
   "outputs": [
    {
     "data": {
      "application/vnd.jupyter.widget-view+json": {
       "model_id": "48dd8df4b1e145abaf5c39acf48ca727",
       "version_major": 2,
       "version_minor": 0
      },
      "text/plain": [
       "Summarize dataset:   0%|          | 0/22 [00:00<?, ?it/s]"
      ]
     },
     "metadata": {},
     "output_type": "display_data"
    },
    {
     "data": {
      "application/vnd.jupyter.widget-view+json": {
       "model_id": "2c47fa7e551449fba2c98cc412ddd23b",
       "version_major": 2,
       "version_minor": 0
      },
      "text/plain": [
       "Generate report structure:   0%|          | 0/1 [00:00<?, ?it/s]"
      ]
     },
     "metadata": {},
     "output_type": "display_data"
    },
    {
     "data": {
      "application/vnd.jupyter.widget-view+json": {
       "model_id": "6d5bbd16bf8643a7ac0343250bc040e3",
       "version_major": 2,
       "version_minor": 0
      },
      "text/plain": [
       "Render HTML:   0%|          | 0/1 [00:00<?, ?it/s]"
      ]
     },
     "metadata": {},
     "output_type": "display_data"
    },
    {
     "data": {
      "application/vnd.jupyter.widget-view+json": {
       "model_id": "ded55936fd584e2cb901d96ac49ac322",
       "version_major": 2,
       "version_minor": 0
      },
      "text/plain": [
       "Export report to file:   0%|          | 0/1 [00:00<?, ?it/s]"
      ]
     },
     "metadata": {},
     "output_type": "display_data"
    }
   ],
   "source": [
    "california_house_profile.to_file(\"California house profile.html\")"
   ]
  },
  {
   "cell_type": "markdown",
   "metadata": {},
   "source": [
    "<a href=\".\\California house profile.html\" onclick=return(showthis(this.href));><font color=\"orangered\">Voir le profiling ici</font></a>"
   ]
  },
  {
   "cell_type": "markdown",
   "metadata": {},
   "source": [
    "<p class='text'>Les données sont propres et ne nécessitent pas de nettoyage. On peut passer directement au model</p>"
   ]
  },
  {
   "cell_type": "markdown",
   "metadata": {},
   "source": [
    "<p class='p3' id='split'>Split data/target - train/test</p>"
   ]
  },
  {
   "cell_type": "code",
   "execution_count": 6,
   "metadata": {},
   "outputs": [],
   "source": [
    "data_train, data_test, target_train, target_test = train_test_split(\n",
    "    df_initial[data.feature_names], \n",
    "    df_initial[data.target_names], \n",
    "    test_size=0.25,\n",
    "    random_state=0\n",
    ")"
   ]
  },
  {
   "cell_type": "code",
   "execution_count": 163,
   "metadata": {},
   "outputs": [
    {
     "data": {
      "text/plain": [
       "MedInc           7.3003\n",
       "HouseAge        19.0000\n",
       "AveRooms         7.9616\n",
       "AveBedrms        1.1376\n",
       "Population    1926.0000\n",
       "AveOccup         3.0816\n",
       "Latitude        38.4600\n",
       "Longitude     -122.6800\n",
       "Name: 19226, dtype: float64"
      ]
     },
     "execution_count": 163,
     "metadata": {},
     "output_type": "execute_result"
    }
   ],
   "source": [
    "data_train.iloc[0]"
   ]
  },
  {
   "cell_type": "code",
   "execution_count": 166,
   "metadata": {},
   "outputs": [],
   "source": [
    "pickle.dump(data_train, open('data_train_example.p', \"wb\"))\n",
    "pickle.dump(target_train, open('target_train_example.p', \"wb\"))"
   ]
  },
  {
   "cell_type": "markdown",
   "metadata": {},
   "source": [
    "<p class='p3' id='models'>Les modèles retenus pour la regression</p>\n",
    "<p class='text'>Nous retenons comme modèle :\n",
    "    <ul> \n",
    "        <li>Neural Network Regression</li>\n",
    "        <li>Decision Tree Regression</li>\n",
    "        <li>LASSO Regression</li>\n",
    "        <li>ElasticNet Regression</li>\n",
    "    </ul> \n",
    "    Le random state sera 0\n",
    "</p>"
   ]
  },
  {
   "cell_type": "code",
   "execution_count": 48,
   "metadata": {},
   "outputs": [],
   "source": [
    "random_state = 0"
   ]
  },
  {
   "cell_type": "code",
   "execution_count": 134,
   "metadata": {},
   "outputs": [],
   "source": [
    "models =[]"
   ]
  },
  {
   "cell_type": "markdown",
   "metadata": {},
   "source": [
    "<p class='p2' id='tree'>Arbre de decision</p>"
   ]
  },
  {
   "cell_type": "code",
   "execution_count": 72,
   "metadata": {},
   "outputs": [
    {
     "data": {
      "text/plain": [
       "0.5810596763166552"
      ]
     },
     "execution_count": 72,
     "metadata": {},
     "output_type": "execute_result"
    }
   ],
   "source": [
    "from sklearn.tree import DecisionTreeRegressor\n",
    "\n",
    "tree_model = DecisionTreeRegressor()\n",
    "\n",
    "tree_model.fit(data_train, target_train)\n",
    "tree_model.score(data_test, target_test)"
   ]
  },
  {
   "cell_type": "code",
   "execution_count": 135,
   "metadata": {},
   "outputs": [],
   "source": [
    "models.append(tree_model)"
   ]
  },
  {
   "cell_type": "markdown",
   "metadata": {},
   "source": [
    "<p class='p2' id='linear'>Modèle linéaire</p>"
   ]
  },
  {
   "cell_type": "code",
   "execution_count": 69,
   "metadata": {},
   "outputs": [
    {
     "data": {
      "text/plain": [
       "0.5911695436410496"
      ]
     },
     "execution_count": 69,
     "metadata": {},
     "output_type": "execute_result"
    }
   ],
   "source": [
    "from sklearn import linear_model\n",
    "\n",
    "lr = linear_model.LinearRegression()\n",
    "lr.fit(data_train, target_train)\n",
    "lr.score(data_test, target_test)"
   ]
  },
  {
   "cell_type": "code",
   "execution_count": 136,
   "metadata": {},
   "outputs": [
    {
     "data": {
      "text/plain": [
       "[DecisionTreeRegressor(), LinearRegression()]"
      ]
     },
     "execution_count": 136,
     "metadata": {},
     "output_type": "execute_result"
    }
   ],
   "source": [
    "models.append(lr)\n",
    "models"
   ]
  },
  {
   "cell_type": "markdown",
   "metadata": {},
   "source": [
    "<p class='p2' id='randomforest'>RandomForestRegressor</p>"
   ]
  },
  {
   "cell_type": "code",
   "execution_count": 71,
   "metadata": {},
   "outputs": [
    {
     "data": {
      "text/plain": [
       "0.7939779234183976"
      ]
     },
     "execution_count": 71,
     "metadata": {},
     "output_type": "execute_result"
    }
   ],
   "source": [
    "from sklearn.ensemble import RandomForestRegressor\n",
    "\n",
    "regr_rf = RandomForestRegressor(random_state=0)\n",
    "regr_rf.fit(data_train, target_train.values[:,0])\n",
    "regr_rf.score(data_test, target_test.values[:,0])"
   ]
  },
  {
   "cell_type": "code",
   "execution_count": 137,
   "metadata": {},
   "outputs": [],
   "source": [
    "models.append(regr_rf)"
   ]
  },
  {
   "cell_type": "markdown",
   "metadata": {},
   "source": [
    "<p class='p2' id='gradient'>GradientBoostingRegressor</p>"
   ]
  },
  {
   "cell_type": "code",
   "execution_count": 76,
   "metadata": {
    "scrolled": true
   },
   "outputs": [
    {
     "data": {
      "text/plain": [
       "0.7809004568284745"
      ]
     },
     "execution_count": 76,
     "metadata": {},
     "output_type": "execute_result"
    }
   ],
   "source": [
    "from sklearn.ensemble import GradientBoostingRegressor\n",
    "\n",
    "regr_gb = GradientBoostingRegressor(random_state=0)\n",
    "regr_gb.fit(data_train, target_train.values[:,0])\n",
    "regr_gb.score(data_test, target_test.values[:,0])"
   ]
  },
  {
   "cell_type": "code",
   "execution_count": 138,
   "metadata": {},
   "outputs": [],
   "source": [
    "models.append(regr_gb)"
   ]
  },
  {
   "cell_type": "markdown",
   "metadata": {},
   "source": [
    "<p class='p2' id='rna'>Réseau de neurone simple</p>"
   ]
  },
  {
   "cell_type": "code",
   "execution_count": 80,
   "metadata": {},
   "outputs": [],
   "source": [
    "from sklearn.preprocessing import MinMaxScaler"
   ]
  },
  {
   "cell_type": "markdown",
   "metadata": {},
   "source": [
    "<p class='p1' id='scaling'>Scaling</p>\n",
    "<p class='text'> Les résaux de neuronne ont besoin de variables entre 0 et 1, on va donc appliquer un minmax scaler sur les données. Il est parmétré par défaut pour transformer les données en valeurs entre 0 et 1. Mais on fait bien attention à ne pas l'entrainer sur les données de test pour ne pas influencer le modèle.</p>"
   ]
  },
  {
   "cell_type": "code",
   "execution_count": 82,
   "metadata": {},
   "outputs": [],
   "source": [
    "scaler = MinMaxScaler()\n",
    "data_train_ann= scaler.fit_transform(data_train)\n",
    "data_test_ann = scaler.transform(data_test)"
   ]
  },
  {
   "cell_type": "code",
   "execution_count": 169,
   "metadata": {},
   "outputs": [],
   "source": [
    "pickle.dump(scaler, open(\"scaler.p\", 'wb'))"
   ]
  },
  {
   "cell_type": "markdown",
   "metadata": {},
   "source": [
    "<p class='p1' id=modelrna>Creation modèle</p>"
   ]
  },
  {
   "cell_type": "code",
   "execution_count": 88,
   "metadata": {},
   "outputs": [],
   "source": [
    "from tensorflow.keras.models import Sequential\n",
    "from tensorflow.keras.layers import Dense\n",
    "from tensorflow.keras.optimizers import Adam\n",
    "from tensorflow.keras.layers import Dropout"
   ]
  },
  {
   "cell_type": "code",
   "execution_count": 173,
   "metadata": {},
   "outputs": [],
   "source": [
    "model_ann = Sequential()\n",
    "\n",
    "model_ann.add(Dense(data_train.shape[0],activation='relu'))\n",
    "model_ann.add(Dropout(0.5))\n",
    "\n",
    "model_ann.add(Dense(3,activation='relu'))\n",
    "model_ann.add(Dropout(0.5))\n",
    "\n",
    "model_ann.add(Dense(1))\n",
    "\n",
    "model_ann.compile(optimizer='adam', loss='mse')"
   ]
  },
  {
   "cell_type": "markdown",
   "metadata": {},
   "source": [
    "<p class='p1' id='train_rna'>Entraînement du modèle</p>"
   ]
  },
  {
   "cell_type": "code",
   "execution_count": 177,
   "metadata": {},
   "outputs": [],
   "source": [
    "from tensorflow.keras.callbacks import EarlyStopping,ModelCheckpoint"
   ]
  },
  {
   "cell_type": "code",
   "execution_count": 175,
   "metadata": {},
   "outputs": [],
   "source": [
    "early_stop = EarlyStopping(monitor='val_loss', mode='min', verbose=1, patience=10)"
   ]
  },
  {
   "cell_type": "code",
   "execution_count": 178,
   "metadata": {},
   "outputs": [],
   "source": [
    "filepath=\"weights-improvement-{epoch:02d}-{loss:.4f}-bigger.hdf5\"\n",
    "callbacks_list = [ModelCheckpoint(filepath, monitor='loss', verbose=1, save_best_only=True, mode='min')]\n",
    "#forme d'enregistrement, selon la loss, exprimé par écriture, uniquement lors d'amélioration, \"min\" = for loss this should be min"
   ]
  },
  {
   "cell_type": "code",
   "execution_count": 179,
   "metadata": {
    "scrolled": false
   },
   "outputs": [
    {
     "name": "stdout",
     "output_type": "stream",
     "text": [
      "Epoch 1/400\n",
      "121/121 [==============================] - ETA: 0s - loss: 3.1614- ETA: 3s\n",
      "Epoch 00001: loss improved from inf to 3.16140, saving model to weights-improvement-01-3.1614-bigger.hdf5\n",
      "121/121 [==============================] - 10s 85ms/step - loss: 3.1614 - val_loss: 1.7451\n",
      "Epoch 2/400\n",
      "121/121 [==============================] - ETA: 0s - loss: 2.7439\n",
      "Epoch 00002: loss improved from 3.16140 to 2.74392, saving model to weights-improvement-02-2.7439-bigger.hdf5\n",
      "121/121 [==============================] - 10s 85ms/step - loss: 2.7439 - val_loss: 1.3739\n",
      "Epoch 3/400\n",
      "121/121 [==============================] - ETA: 0s - loss: 2.5594\n",
      "Epoch 00003: loss improved from 2.74392 to 2.55939, saving model to weights-improvement-03-2.5594-bigger.hdf5\n",
      "121/121 [==============================] - 13s 109ms/step - loss: 2.5594 - val_loss: 1.4385\n",
      "Epoch 4/400\n",
      "121/121 [==============================] - ETA: 0s - loss: 2.3656\n",
      "Epoch 00004: loss improved from 2.55939 to 2.36562, saving model to weights-improvement-04-2.3656-bigger.hdf5\n",
      "121/121 [==============================] - 10s 85ms/step - loss: 2.3656 - val_loss: 1.4544\n",
      "Epoch 5/400\n",
      "121/121 [==============================] - ETA: 0s - loss: 2.1813\n",
      "Epoch 00005: loss improved from 2.36562 to 2.18128, saving model to weights-improvement-05-2.1813-bigger.hdf5\n",
      "121/121 [==============================] - 11s 92ms/step - loss: 2.1813 - val_loss: 1.1108\n",
      "Epoch 6/400\n",
      "121/121 [==============================] - ETA: 0s - loss: 2.0104\n",
      "Epoch 00006: loss improved from 2.18128 to 2.01044, saving model to weights-improvement-06-2.0104-bigger.hdf5\n",
      "121/121 [==============================] - 13s 103ms/step - loss: 2.0104 - val_loss: 1.1967\n",
      "Epoch 7/400\n",
      "121/121 [==============================] - ETA: 0s - loss: 1.8650\n",
      "Epoch 00007: loss improved from 2.01044 to 1.86501, saving model to weights-improvement-07-1.8650-bigger.hdf5\n",
      "121/121 [==============================] - 11s 89ms/step - loss: 1.8650 - val_loss: 1.0930\n",
      "Epoch 8/400\n",
      "121/121 [==============================] - ETA: 0s - loss: 1.719 - ETA: 0s - loss: 1.7207\n",
      "Epoch 00008: loss improved from 1.86501 to 1.72071, saving model to weights-improvement-08-1.7207-bigger.hdf5\n",
      "121/121 [==============================] - 14s 115ms/step - loss: 1.7207 - val_loss: 1.1539\n",
      "Epoch 9/400\n",
      "121/121 [==============================] - ETA: 0s - loss: 1.6252\n",
      "Epoch 00009: loss improved from 1.72071 to 1.62522, saving model to weights-improvement-09-1.6252-bigger.hdf5\n",
      "121/121 [==============================] - 14s 115ms/step - loss: 1.6252 - val_loss: 0.9020\n",
      "Epoch 10/400\n",
      "121/121 [==============================] - ETA: 0s - loss: 1.5118\n",
      "Epoch 00010: loss improved from 1.62522 to 1.51182, saving model to weights-improvement-10-1.5118-bigger.hdf5\n",
      "121/121 [==============================] - 12s 98ms/step - loss: 1.5118 - val_loss: 0.9253\n",
      "Epoch 11/400\n",
      "121/121 [==============================] - ETA: 0s - loss: 1.4282\n",
      "Epoch 00011: loss improved from 1.51182 to 1.42822, saving model to weights-improvement-11-1.4282-bigger.hdf5\n",
      "121/121 [==============================] - 12s 96ms/step - loss: 1.4282 - val_loss: 0.7951\n",
      "Epoch 12/400\n",
      "121/121 [==============================] - ETA: 0s - loss: 1.3231\n",
      "Epoch 00012: loss improved from 1.42822 to 1.32309, saving model to weights-improvement-12-1.3231-bigger.hdf5\n",
      "121/121 [==============================] - 12s 103ms/step - loss: 1.3231 - val_loss: 0.8893\n",
      "Epoch 13/400\n",
      "121/121 [==============================] - ETA: 0s - loss: 1.2667\n",
      "Epoch 00013: loss improved from 1.32309 to 1.26675, saving model to weights-improvement-13-1.2667-bigger.hdf5\n",
      "121/121 [==============================] - 12s 96ms/step - loss: 1.2667 - val_loss: 0.8569\n",
      "Epoch 14/400\n",
      "121/121 [==============================] - ETA: 0s - loss: 1.2250\n",
      "Epoch 00014: loss improved from 1.26675 to 1.22498, saving model to weights-improvement-14-1.2250-bigger.hdf5\n",
      "121/121 [==============================] - 12s 96ms/step - loss: 1.2250 - val_loss: 0.8048\n",
      "Epoch 15/400\n",
      "121/121 [==============================] - ETA: 0s - loss: 1.1643\n",
      "Epoch 00015: loss improved from 1.22498 to 1.16425, saving model to weights-improvement-15-1.1643-bigger.hdf5\n",
      "121/121 [==============================] - 12s 98ms/step - loss: 1.1643 - val_loss: 0.7939\n",
      "Epoch 16/400\n",
      "121/121 [==============================] - ETA: 0s - loss: 1.1280\n",
      "Epoch 00016: loss improved from 1.16425 to 1.12805, saving model to weights-improvement-16-1.1280-bigger.hdf5\n",
      "121/121 [==============================] - 10s 86ms/step - loss: 1.1280 - val_loss: 0.8423\n",
      "Epoch 17/400\n",
      "121/121 [==============================] - ETA: 0s - loss: 1.1130\n",
      "Epoch 00017: loss improved from 1.12805 to 1.11297, saving model to weights-improvement-17-1.1130-bigger.hdf5\n",
      "121/121 [==============================] - 10s 81ms/step - loss: 1.1130 - val_loss: 0.7173\n",
      "Epoch 18/400\n",
      "121/121 [==============================] - ETA: 0s - loss: 1.0633\n",
      "Epoch 00018: loss improved from 1.11297 to 1.06334, saving model to weights-improvement-18-1.0633-bigger.hdf5\n",
      "121/121 [==============================] - 13s 109ms/step - loss: 1.0633 - val_loss: 0.7946\n",
      "Epoch 19/400\n",
      "121/121 [==============================] - ETA: 0s - loss: 1.0281\n",
      "Epoch 00019: loss improved from 1.06334 to 1.02806, saving model to weights-improvement-19-1.0281-bigger.hdf5\n",
      "121/121 [==============================] - 12s 101ms/step - loss: 1.0281 - val_loss: 0.7407\n",
      "Epoch 20/400\n",
      "121/121 [==============================] - ETA: 0s - loss: 1.0307\n",
      "Epoch 00020: loss did not improve from 1.02806\n",
      "121/121 [==============================] - 13s 107ms/step - loss: 1.0307 - val_loss: 0.7405\n",
      "Epoch 21/400\n",
      "121/121 [==============================] - ETA: 0s - loss: 1.0348\n",
      "Epoch 00021: loss did not improve from 1.02806\n",
      "121/121 [==============================] - 12s 99ms/step - loss: 1.0348 - val_loss: 0.7897\n",
      "Epoch 22/400\n",
      "121/121 [==============================] - ETA: 0s - loss: 1.0154\n",
      "Epoch 00022: loss improved from 1.02806 to 1.01542, saving model to weights-improvement-22-1.0154-bigger.hdf5\n",
      "121/121 [==============================] - 11s 90ms/step - loss: 1.0154 - val_loss: 0.7336\n",
      "Epoch 23/400\n",
      "121/121 [==============================] - ETA: 0s - loss: 1.0031\n",
      "Epoch 00023: loss improved from 1.01542 to 1.00308, saving model to weights-improvement-23-1.0031-bigger.hdf5\n",
      "121/121 [==============================] - 12s 99ms/step - loss: 1.0031 - val_loss: 0.7515\n",
      "Epoch 24/400\n",
      "121/121 [==============================] - ETA: 0s - loss: 1.0207\n",
      "Epoch 00024: loss did not improve from 1.00308\n",
      "121/121 [==============================] - 15s 121ms/step - loss: 1.0207 - val_loss: 0.7744\n",
      "Epoch 25/400\n",
      "121/121 [==============================] - ETA: 0s - loss: 0.9883- ETA: 1s -\n",
      "Epoch 00025: loss improved from 1.00308 to 0.98829, saving model to weights-improvement-25-0.9883-bigger.hdf5\n",
      "121/121 [==============================] - 12s 95ms/step - loss: 0.9883 - val_loss: 0.7859\n",
      "Epoch 26/400\n",
      "121/121 [==============================] - ETA: 0s - loss: 1.0133\n",
      "Epoch 00026: loss did not improve from 0.98829\n",
      "121/121 [==============================] - 12s 96ms/step - loss: 1.0133 - val_loss: 0.7120\n",
      "Epoch 27/400\n",
      "121/121 [==============================] - ETA: 0s - loss: 0.9955\n",
      "Epoch 00027: loss did not improve from 0.98829\n",
      "121/121 [==============================] - 11s 88ms/step - loss: 0.9955 - val_loss: 0.7595\n",
      "Epoch 28/400\n",
      "121/121 [==============================] - ETA: 0s - loss: 1.0079\n",
      "Epoch 00028: loss did not improve from 0.98829\n",
      "121/121 [==============================] - 11s 87ms/step - loss: 1.0079 - val_loss: 0.7931\n",
      "Epoch 29/400\n",
      "121/121 [==============================] - ETA: 0s - loss: 0.9939\n",
      "Epoch 00029: loss did not improve from 0.98829\n",
      "121/121 [==============================] - 10s 86ms/step - loss: 0.9939 - val_loss: 0.8383\n",
      "Epoch 30/400\n",
      "121/121 [==============================] - ETA: 0s - loss: 0.9984\n",
      "Epoch 00030: loss did not improve from 0.98829\n",
      "121/121 [==============================] - 11s 89ms/step - loss: 0.9984 - val_loss: 0.8091\n",
      "Epoch 31/400\n",
      "121/121 [==============================] - ETA: 0s - loss: 1.0099\n",
      "Epoch 00031: loss did not improve from 0.98829\n",
      "121/121 [==============================] - 10s 84ms/step - loss: 1.0099 - val_loss: 0.7667\n",
      "Epoch 32/400\n"
     ]
    },
    {
     "name": "stdout",
     "output_type": "stream",
     "text": [
      "121/121 [==============================] - ETA: 0s - loss: 0.9863\n",
      "Epoch 00032: loss improved from 0.98829 to 0.98634, saving model to weights-improvement-32-0.9863-bigger.hdf5\n",
      "121/121 [==============================] - 10s 86ms/step - loss: 0.9863 - val_loss: 0.7905\n",
      "Epoch 33/400\n",
      "121/121 [==============================] - ETA: 0s - loss: 1.0000\n",
      "Epoch 00033: loss did not improve from 0.98634\n",
      "121/121 [==============================] - 11s 94ms/step - loss: 1.0000 - val_loss: 0.8296\n",
      "Epoch 34/400\n",
      "121/121 [==============================] - ETA: 0s - loss: 0.9779\n",
      "Epoch 00034: loss improved from 0.98634 to 0.97795, saving model to weights-improvement-34-0.9779-bigger.hdf5\n",
      "121/121 [==============================] - 10s 85ms/step - loss: 0.9779 - val_loss: 0.8520\n",
      "Epoch 35/400\n",
      "121/121 [==============================] - ETA: 0s - loss: 0.9945\n",
      "Epoch 00035: loss did not improve from 0.97795\n",
      "121/121 [==============================] - 12s 102ms/step - loss: 0.9945 - val_loss: 0.8143\n",
      "Epoch 36/400\n",
      "121/121 [==============================] - ETA: 0s - loss: 1.0142\n",
      "Epoch 00036: loss did not improve from 0.97795\n",
      "121/121 [==============================] - 12s 97ms/step - loss: 1.0142 - val_loss: 0.8054\n",
      "Epoch 00036: early stopping\n"
     ]
    },
    {
     "data": {
      "text/plain": [
       "<tensorflow.python.keras.callbacks.History at 0x22c31b858b0>"
      ]
     },
     "execution_count": 179,
     "metadata": {},
     "output_type": "execute_result"
    }
   ],
   "source": [
    "model_ann.fit(x=data_train_ann,y=target_train.values,\n",
    "          validation_data=(data_test_ann,target_test.values),\n",
    "          batch_size=128,epochs=400, callbacks=[early_stop, callbacks_list])"
   ]
  },
  {
   "cell_type": "code",
   "execution_count": 180,
   "metadata": {},
   "outputs": [],
   "source": [
    "losses = pd.DataFrame(model_ann.history.history)"
   ]
  },
  {
   "cell_type": "code",
   "execution_count": 181,
   "metadata": {},
   "outputs": [
    {
     "data": {
      "text/plain": [
       "<matplotlib.axes._subplots.AxesSubplot at 0x22c3505bac0>"
      ]
     },
     "execution_count": 181,
     "metadata": {},
     "output_type": "execute_result"
    },
    {
     "data": {
      "image/png": "[encoded data removed]",
      "text/plain": [
       "<Figure size 432x288 with 1 Axes>"
      ]
     },
     "metadata": {
      "needs_background": "light"
     },
     "output_type": "display_data"
    }
   ],
   "source": [
    "losses.plot()"
   ]
  },
  {
   "cell_type": "markdown",
   "metadata": {},
   "source": [
    "<p class='p1' id='eval'>Evaluation du modèle</p>"
   ]
  },
  {
   "cell_type": "code",
   "execution_count": 182,
   "metadata": {},
   "outputs": [],
   "source": [
    "from sklearn.metrics import r2_score"
   ]
  },
  {
   "cell_type": "code",
   "execution_count": 183,
   "metadata": {},
   "outputs": [],
   "source": [
    "predictions = model_ann.predict(data_test)"
   ]
  },
  {
   "cell_type": "code",
   "execution_count": 184,
   "metadata": {
    "scrolled": true
   },
   "outputs": [
    {
     "data": {
      "text/plain": [
       "-4234406.435834386"
      ]
     },
     "execution_count": 184,
     "metadata": {},
     "output_type": "execute_result"
    }
   ],
   "source": [
    "r2_score(target_test, predictions)"
   ]
  },
  {
   "cell_type": "code",
   "execution_count": 185,
   "metadata": {},
   "outputs": [],
   "source": [
    "models.append(model_ann)"
   ]
  },
  {
   "cell_type": "code",
   "execution_count": 187,
   "metadata": {},
   "outputs": [],
   "source": [
    "models.remove(models[-2])"
   ]
  },
  {
   "cell_type": "code",
   "execution_count": 188,
   "metadata": {},
   "outputs": [
    {
     "data": {
      "text/plain": [
       "[DecisionTreeRegressor(),\n",
       " LinearRegression(),\n",
       " RandomForestRegressor(random_state=0),\n",
       " GradientBoostingRegressor(random_state=0),\n",
       " <tensorflow.python.keras.engine.sequential.Sequential at 0x22c31d62ca0>]"
      ]
     },
     "execution_count": 188,
     "metadata": {},
     "output_type": "execute_result"
    }
   ],
   "source": [
    "models"
   ]
  },
  {
   "cell_type": "markdown",
   "metadata": {},
   "source": [
    "<p class='p3' id='pickle'>Export des modèles pour notre app</p>"
   ]
  },
  {
   "cell_type": "markdown",
   "metadata": {},
   "source": [
    "<p class='text'>On exporte les modèles sous forme de pickle pour pouvoir les utiliser dans une application streamlit</p>"
   ]
  },
  {
   "cell_type": "code",
   "execution_count": 152,
   "metadata": {
    "scrolled": true
   },
   "outputs": [
    {
     "ename": "OSError",
     "evalue": "[Errno 22] Invalid argument: 'model<tensorflow.python.keras.engine.sequential.Sequential object at 0x0000022C3058B460>4.p'",
     "output_type": "error",
     "traceback": [
      "\u001b[1;31m---------------------------------------------------------------------------\u001b[0m",
      "\u001b[1;31mOSError\u001b[0m                                   Traceback (most recent call last)",
      "\u001b[1;32m<ipython-input-152-e0e30619d918>\u001b[0m in \u001b[0;36m<module>\u001b[1;34m\u001b[0m\n\u001b[0;32m      1\u001b[0m \u001b[1;32mfor\u001b[0m \u001b[0mi\u001b[0m\u001b[1;33m,\u001b[0m \u001b[0mmodel\u001b[0m \u001b[1;32min\u001b[0m \u001b[0menumerate\u001b[0m\u001b[1;33m(\u001b[0m\u001b[0mmodels\u001b[0m\u001b[1;33m)\u001b[0m\u001b[1;33m:\u001b[0m\u001b[1;33m\u001b[0m\u001b[1;33m\u001b[0m\u001b[0m\n\u001b[1;32m----> 2\u001b[1;33m     \u001b[0mpickle\u001b[0m\u001b[1;33m.\u001b[0m\u001b[0mdump\u001b[0m\u001b[1;33m(\u001b[0m\u001b[0mmodel\u001b[0m\u001b[1;33m,\u001b[0m \u001b[0mopen\u001b[0m\u001b[1;33m(\u001b[0m\u001b[1;34mf\"model{model}{i}.p\"\u001b[0m\u001b[1;33m,\u001b[0m \u001b[1;34m'wb'\u001b[0m\u001b[1;33m)\u001b[0m\u001b[1;33m)\u001b[0m\u001b[1;33m\u001b[0m\u001b[1;33m\u001b[0m\u001b[0m\n\u001b[0m",
      "\u001b[1;31mOSError\u001b[0m: [Errno 22] Invalid argument: 'model<tensorflow.python.keras.engine.sequential.Sequential object at 0x0000022C3058B460>4.p'"
     ]
    }
   ],
   "source": [
    "for i, model in enumerate(models):\n",
    "    pickle.dump(model, open(f\"model{model}{i}.p\", 'wb'))"
   ]
  },
  {
   "cell_type": "code",
   "execution_count": 192,
   "metadata": {},
   "outputs": [],
   "source": [
    "model_ann.save('modelann.h5')"
   ]
  },
  {
   "cell_type": "code",
   "execution_count": null,
   "metadata": {},
   "outputs": [],
   "source": []
  },
  {
   "cell_type": "code",
   "execution_count": null,
   "metadata": {},
   "outputs": [],
   "source": []
  },
  {
   "cell_type": "markdown",
   "metadata": {},
   "source": [
    "<p class='p4'>Mise en forme du notebook</p>"
   ]
  },
  {
   "cell_type": "code",
   "execution_count": 86,
   "metadata": {},
   "outputs": [
    {
     "data": {
      "text/html": [
       "<!--\n",
       "HTML and CSS code to have a navigation bar on the left and an area to write notes on the right.\n",
       "The script showthis is used to display a link in a new window.\n",
       "-->\n",
       "<style>\n",
       "    .navigation {\n",
       "        position: fixed;\n",
       "        top: 100px;\n",
       "        left: 0px;\n",
       "        background: white;\n",
       "        height: 100%;\n",
       "        width: 9%;\n",
       "        padding: 20px;\n",
       "        overflow-y:scroll;\n",
       "        font-size: 10px;\n",
       "    }\n",
       "    .notes {\n",
       "        position: fixed;\n",
       "        top: 100px;\n",
       "        right: 0px;\n",
       "        background: white;\n",
       "        height: 100%;\n",
       "        width: 11%;\n",
       "        padding: 20px;\n",
       "        padding-bottom: 50px;\n",
       "        overflow-y:scroll;\n",
       "    }\n",
       "    .container {\n",
       "        width:80%\n",
       "    }\n",
       "    .p1 {\n",
       "        font-family: \"Lucida Console\", \"Courier New\", monospace;\n",
       "        font-size: 1.5em;\n",
       "        color: #8A2809;\n",
       "    }\n",
       "    .p2 {\n",
       "        font-family: \"Lucida Console\", \"Courier New\", monospace;\n",
       "        font-size: 1.9em;\n",
       "        color: orangered;\n",
       "    }\n",
       "    .p3 {\n",
       "        font-family: \"Lucida Console\", \"Courier New\", monospace;\n",
       "        font-size: 2em;\n",
       "        color: orange;\n",
       "    }\n",
       "    .p4 {\n",
       "        font-family: \"Lucida Console\", \"Courier New\", monospace;\n",
       "        font-size: 1.7em;\n",
       "        color: black;\n",
       "    }\n",
       "    .text {\n",
       "        font-family: \"Lucida Console\", \"Courier New\", monospace;\n",
       "        font-size: 1em;\n",
       "        color: black;\n",
       "    }\n",
       "</style>\n",
       "<script>\n",
       "function showthis(url) {\n",
       "\twindow.open(url, \"pres\", \"toolbar=yes,scrollbars=yes,resizable=yes,top=10,left=400,width=500,height=500\");\n",
       "\treturn(false);\n",
       "}\n",
       "</script>\n"
      ],
      "text/plain": [
       "<IPython.core.display.HTML object>"
      ]
     },
     "metadata": {},
     "output_type": "display_data"
    }
   ],
   "source": [
    "%%HTML\n",
    "<!--\n",
    "HTML and CSS code to have a navigation bar on the left and an area to write notes on the right.\n",
    "The script showthis is used to display a link in a new window.\n",
    "-->\n",
    "<style>\n",
    "    .navigation {\n",
    "        position: fixed;\n",
    "        top: 100px;\n",
    "        left: 0px;\n",
    "        background: white;\n",
    "        height: 100%;\n",
    "        width: 9%;\n",
    "        padding: 20px;\n",
    "        overflow-y:scroll;\n",
    "        font-size: 10px;\n",
    "    }\n",
    "    .notes {\n",
    "        position: fixed;\n",
    "        top: 100px;\n",
    "        right: 0px;\n",
    "        background: white;\n",
    "        height: 100%;\n",
    "        width: 11%;\n",
    "        padding: 20px;\n",
    "        padding-bottom: 50px;\n",
    "        overflow-y:scroll;\n",
    "    }\n",
    "    .container {\n",
    "        width:80%\n",
    "    }\n",
    "    .p1 {\n",
    "        font-family: \"Lucida Console\", \"Courier New\", monospace;\n",
    "        font-size: 1.5em;\n",
    "        color: #8A2809;\n",
    "    }\n",
    "    .p2 {\n",
    "        font-family: \"Lucida Console\", \"Courier New\", monospace;\n",
    "        font-size: 1.9em;\n",
    "        color: orangered;\n",
    "    }\n",
    "    .p3 {\n",
    "        font-family: \"Lucida Console\", \"Courier New\", monospace;\n",
    "        font-size: 2em;\n",
    "        color: orange;\n",
    "    }\n",
    "    .p4 {\n",
    "        font-family: \"Lucida Console\", \"Courier New\", monospace;\n",
    "        font-size: 1.7em;\n",
    "        color: black;\n",
    "    }\n",
    "    .text {\n",
    "        font-family: \"Lucida Console\", \"Courier New\", monospace;\n",
    "        font-size: 1em;\n",
    "        color: black;\n",
    "    }\n",
    "</style>\n",
    "<script>\n",
    "function showthis(url) {\n",
    "\twindow.open(url, \"pres\", \"toolbar=yes,scrollbars=yes,resizable=yes,top=10,left=400,width=500,height=500\");\n",
    "\treturn(false);\n",
    "}\n",
    "</script>"
   ]
  },
  {
   "cell_type": "markdown",
   "metadata": {},
   "source": [
    "<font color=\"orangered\" size=5>Menu</font>\n",
    "<a id=menu></a>\n",
    "<div class=navigation>\n",
    "    <div>\n",
    "        <a href=https://cutt.ly/linkedin_Nicolas_Churlet onclick=return(showthis(this.href));><font color=\"orangered\">Contact</font></a>\n",
    "    </div>\n",
    "    <div>\n",
    "        <a href=\"#imports\"><font color=\"blue\">Imports</font></a>\n",
    "    </div>\n",
    "    <div>\n",
    "        <a href=\"#data\"><font color=\"blue\">Données</font></a>\n",
    "    </div>\n",
    "    <div>\n",
    "        <a href=\"#profile\"><font color=\"blue\">Profilage</font></a>\n",
    "    </div>\n",
    "    <div>\n",
    "        <a href=\"#split\"><font color=\"green\">Split</font></a>\n",
    "    </div>\n",
    "    <div>\n",
    "        <a href=\"#models\"><font color=\"green\">Modèles</font></a>\n",
    "    </div>\n",
    "    <div>\n",
    "        <a href=\"#tree\"><font color=\"#808000\">_Abre de décision</font></a>\n",
    "    </div>\n",
    "    <div>\n",
    "        <a href=\"#linear\"><font color=\"#808000\">_Régression linéaire</font></a>\n",
    "    </div>\n",
    "    <div>\n",
    "        <a href=\"#randomforest\"><font color=\"#808000\">_Random forest</font></a>\n",
    "    </div>\n",
    "    <div>\n",
    "        <a href=\"#gradient\"><font color=\"#808000\">_Greadient Boost</font></a>\n",
    "    </div>\n",
    "    <div>\n",
    "        <a href=\"#rna\"><font color=\"#808000\">_RNA</font></a>\n",
    "    </div>\n",
    "    <div>\n",
    "        <a href=\"#scaling\"><font color=\"maroon\">__Scaling</font></a>\n",
    "    </div>\n",
    "    <div>\n",
    "        <a href=\"#modelrna\"><font color=\"maroon\">__Architecture</font></a>\n",
    "    </div>\n",
    "    <div>\n",
    "        <a href=\"#train_rna\"><font color=\"maroon\">__Entraînement</font></a>\n",
    "    </div>\n",
    "    <div>\n",
    "        <a href=\"#eval\"><font color=\"maroon\">__Evaluation</font></a>\n",
    "    </div>\n",
    "    <div>\n",
    "        <a href=\"#pickle\"><font color=#D7DE00>Export</font></a>\n",
    "    </div>\n",
    "    <div>\n",
    "        <br><a href=\"#menu\"><font color=\"orange\">Menu</font></a>\n",
    "    </div>\n",
    "</div>"
   ]
  }
 ],
 "metadata": {
  "kernelspec": {
   "display_name": "Python 3",
   "language": "python",
   "name": "python3"
  },
  "language_info": {
   "codemirror_mode": {
    "name": "ipython",
    "version": 3
   },
   "file_extension": ".py",
   "mimetype": "text/x-python",
   "name": "python",
   "nbconvert_exporter": "python",
   "pygments_lexer": "ipython3",
   "version": "3.8.3"
  }
 },
 "nbformat": 4,
 "nbformat_minor": 4
}
